{
 "cells": [
  {
   "cell_type": "code",
   "execution_count": 1,
   "id": "74d47aa8",
   "metadata": {},
   "outputs": [
    {
     "name": "stderr",
     "output_type": "stream",
     "text": [
      "2023-01-27 20:32:04.581085: I tensorflow/core/platform/cpu_feature_guard.cc:193] This TensorFlow binary is optimized with oneAPI Deep Neural Network Library (oneDNN) to use the following CPU instructions in performance-critical operations:  AVX2 FMA\n",
      "To enable them in other operations, rebuild TensorFlow with the appropriate compiler flags.\n",
      "2023-01-27 20:32:04.700931: W tensorflow/compiler/xla/stream_executor/platform/default/dso_loader.cc:64] Could not load dynamic library 'libcudart.so.11.0'; dlerror: libcudart.so.11.0: cannot open shared object file: No such file or directory; LD_LIBRARY_PATH: /home/stk0057/.local/lib/python3.10/site-packages/cv2/../../lib64:\n",
      "2023-01-27 20:32:04.700954: I tensorflow/compiler/xla/stream_executor/cuda/cudart_stub.cc:29] Ignore above cudart dlerror if you do not have a GPU set up on your machine.\n",
      "2023-01-27 20:32:05.404371: W tensorflow/compiler/xla/stream_executor/platform/default/dso_loader.cc:64] Could not load dynamic library 'libnvinfer.so.7'; dlerror: libnvinfer.so.7: cannot open shared object file: No such file or directory; LD_LIBRARY_PATH: /home/stk0057/.local/lib/python3.10/site-packages/cv2/../../lib64:\n",
      "2023-01-27 20:32:05.404472: W tensorflow/compiler/xla/stream_executor/platform/default/dso_loader.cc:64] Could not load dynamic library 'libnvinfer_plugin.so.7'; dlerror: libnvinfer_plugin.so.7: cannot open shared object file: No such file or directory; LD_LIBRARY_PATH: /home/stk0057/.local/lib/python3.10/site-packages/cv2/../../lib64:\n",
      "2023-01-27 20:32:05.404480: W tensorflow/compiler/tf2tensorrt/utils/py_utils.cc:38] TF-TRT Warning: Cannot dlopen some TensorRT libraries. If you would like to use Nvidia GPU with TensorRT, please make sure the missing libraries mentioned above are installed properly.\n"
     ]
    }
   ],
   "source": [
    "import cv2\n",
    "import os\n",
    "import numpy as np\n",
    "from sklearn.utils import shuffle\n",
    "from sklearn.model_selection import train_test_split\n",
    "from keras.layers import Input, Dense, Activation, ZeroPadding2D, BatchNormalization, Flatten, Conv2D\n",
    "from keras.layers import AveragePooling2D, MaxPooling2D, Dropout, GlobalMaxPooling2D, GlobalAveragePooling2D\n",
    "from keras.models import Model\n",
    "#from keras.preprocessing import image\n",
    "from keras.utils import layer_utils\n",
    "from keras.utils.data_utils import get_file\n",
    "from keras.applications.imagenet_utils import preprocess_input\n",
    "from keras.utils.vis_utils import model_to_dot\n",
    "from keras.utils import plot_model\n",
    "from keras.callbacks import EarlyStopping, ModelCheckpoint\n",
    "from PIL import Image"
   ]
  },
  {
   "cell_type": "code",
   "execution_count": 2,
   "id": "59073d5c",
   "metadata": {},
   "outputs": [],
   "source": [
    "import os\n",
    "from sklearn.utils import shuffle\n",
    "from sklearn.model_selection import train_test_split\n",
    "from keras.preprocessing import image\n",
    "\n",
    "# Define the base directory\n",
    "base_dir = \"AIOralCancerProject\"\n",
    "\n",
    "# Create an empty list to store the images and labels\n",
    "X = []\n",
    "y = []\n",
    "\n",
    "# Get the class labels from the directory names\n",
    "class_labels = os.listdir(base_dir)\n",
    "\n",
    "# Iterate through each directory and store the images and labels\n",
    "for i, label in enumerate(class_labels):\n",
    "    img_dir = os.path.join(base_dir, label)\n",
    "    for file in os.listdir(img_dir):\n",
    "        # Check if file is an image\n",
    "        if file.endswith(\".jpg\") or file.endswith(\".png\"):\n",
    "            # Load the image\n",
    "            \n",
    "            img = Image.open(os.path.join(img_dir, file))\n",
    "            img = img.resize((300, 300))\n",
    "            img = np.array(img)\n",
    "            #img = img / 255.0\n",
    "\n",
    "            # Append the image to the list of images\n",
    "            X.append(img)\n",
    "            # Append the corresponding label to the list of labels\n",
    "            y.append(i)"
   ]
  },
  {
   "cell_type": "code",
   "execution_count": 3,
   "id": "5f9eeda9",
   "metadata": {},
   "outputs": [],
   "source": [
    "# Shuffle the data\n",
    "#X, y = shuffle(X, y)\n",
    "\n",
    "# Split the data into training and testing sets\n",
    "X_train, X_test, y_train, y_test = train_test_split(X, y, test_size=0.2, random_state=42)"
   ]
  },
  {
   "cell_type": "code",
   "execution_count": 4,
   "id": "cdfe5f59",
   "metadata": {},
   "outputs": [],
   "source": [
    "X_train = np.array(X_train)\n",
    "X_test = np.array(X_test)\n",
    "\n",
    "X_train = X_train.reshape(-1,300,300,3)\n",
    "X_test = X_test.reshape(-1,300,300,3)"
   ]
  },
  {
   "cell_type": "code",
   "execution_count": 5,
   "id": "59890868-a3d7-463b-92f0-8531e5109628",
   "metadata": {},
   "outputs": [
    {
     "name": "stdout",
     "output_type": "stream",
     "text": [
      "[9, 6, 4, 3, 14, 15, 11, 1, 5, 12, 2, 8, 16, 13, 0, 7]\n"
     ]
    }
   ],
   "source": [
    "output = []\n",
    "for x in y_test:\n",
    "    if x not in output:\n",
    "        output.append(x)\n",
    "print(output)"
   ]
  },
  {
   "cell_type": "code",
   "execution_count": 6,
   "id": "6f2b5edc-12d7-43c1-be31-ca7794aa7dba",
   "metadata": {},
   "outputs": [
    {
     "data": {
      "text/plain": [
       "(2224, 300, 300, 3)"
      ]
     },
     "execution_count": 6,
     "metadata": {},
     "output_type": "execute_result"
    }
   ],
   "source": [
    "X_train.shape"
   ]
  },
  {
   "cell_type": "code",
   "execution_count": 7,
   "id": "d50d74bd",
   "metadata": {},
   "outputs": [],
   "source": [
    "from keras.preprocessing.image import ImageDataGenerator"
   ]
  },
  {
   "cell_type": "code",
   "execution_count": 8,
   "id": "10247354",
   "metadata": {},
   "outputs": [],
   "source": [
    "# Define the data generator for data augmentation\n",
    "datagen = ImageDataGenerator(\n",
    "    rotation_range=40,\n",
    "    width_shift_range=0.2,\n",
    "    height_shift_range=0.2,\n",
    "    shear_range=0.2,\n",
    "    zoom_range=0.2,\n",
    "    horizontal_flip=True,\n",
    "    fill_mode='nearest')"
   ]
  },
  {
   "cell_type": "code",
   "execution_count": 9,
   "id": "8bd284b2",
   "metadata": {},
   "outputs": [],
   "source": [
    "# Fit the generator to the training data\n",
    "datagen.fit(X_train)"
   ]
  },
  {
   "cell_type": "code",
   "execution_count": 13,
   "id": "e6b17b76-2a41-4456-8227-776ed2d30ef1",
   "metadata": {},
   "outputs": [],
   "source": [
    "# Make sure y_train and y_test are in the correct format\n",
    "y_train = np.asarray(y_train)\n",
    "y_test = np.asarray(y_test)"
   ]
  },
  {
   "cell_type": "code",
   "execution_count": 11,
   "id": "3f67a9b3",
   "metadata": {},
   "outputs": [],
   "source": [
    "from keras.utils import to_categorical\n",
    "\n",
    "# One-hot encode the labels\n",
    "y_train_encoded = to_categorical(y_train)\n",
    "y_test_encoded = to_categorical(y_test)"
   ]
  },
  {
   "cell_type": "code",
   "execution_count": 14,
   "id": "b4725273-c04a-4da4-8ec7-2242d3c99c97",
   "metadata": {},
   "outputs": [],
   "source": [
    "y_train[y_train >= 10] -= 10\n",
    "y_test[y_test >= 10] -= 10"
   ]
  },
  {
   "cell_type": "code",
   "execution_count": 15,
   "id": "e7c8cf46-9cd7-4c59-9fe1-b2b070bb09bc",
   "metadata": {},
   "outputs": [],
   "source": [
    "y_train = to_categorical(y_train, num_classes=16)\n",
    "y_test = to_categorical(y_test, num_classes=16)"
   ]
  },
  {
   "cell_type": "code",
   "execution_count": 16,
   "id": "58d48631-3cb2-429b-ac8e-ec38568b530b",
   "metadata": {},
   "outputs": [
    {
     "name": "stderr",
     "output_type": "stream",
     "text": [
      "2023-01-27 20:34:42.743405: E tensorflow/compiler/xla/stream_executor/cuda/cuda_driver.cc:267] failed call to cuInit: CUDA_ERROR_NO_DEVICE: no CUDA-capable device is detected\n",
      "2023-01-27 20:34:42.743478: I tensorflow/compiler/xla/stream_executor/cuda/cuda_diagnostics.cc:156] kernel driver does not appear to be running on this host (mistakenly-eager-jawfish): /proc/driver/nvidia/version does not exist\n",
      "2023-01-27 20:34:42.744741: I tensorflow/core/platform/cpu_feature_guard.cc:193] This TensorFlow binary is optimized with oneAPI Deep Neural Network Library (oneDNN) to use the following CPU instructions in performance-critical operations:  AVX2 FMA\n",
      "To enable them in other operations, rebuild TensorFlow with the appropriate compiler flags.\n",
      "WARNING:absl:`lr` is deprecated, please use `learning_rate` instead, or use the legacy optimizer, e.g.,tf.keras.optimizers.legacy.Adam.\n"
     ]
    },
    {
     "name": "stdout",
     "output_type": "stream",
     "text": [
      "Epoch 1/30\n",
      "35/35 [==============================] - 131s 4s/step - loss: 2.1094 - accuracy: 0.2792 - val_loss: 1.8292 - val_accuracy: 0.3705\n",
      "Epoch 2/30\n",
      "35/35 [==============================] - 129s 4s/step - loss: 1.7098 - accuracy: 0.4015 - val_loss: 1.6671 - val_accuracy: 0.4227\n",
      "Epoch 3/30\n",
      "35/35 [==============================] - 120s 3s/step - loss: 1.5408 - accuracy: 0.4627 - val_loss: 1.5919 - val_accuracy: 0.4281\n",
      "Epoch 4/30\n",
      "35/35 [==============================] - 122s 4s/step - loss: 1.4570 - accuracy: 0.4951 - val_loss: 1.6067 - val_accuracy: 0.4388\n",
      "Epoch 5/30\n",
      "35/35 [==============================] - 120s 3s/step - loss: 1.3960 - accuracy: 0.5171 - val_loss: 1.5337 - val_accuracy: 0.4604\n",
      "Epoch 6/30\n",
      "35/35 [==============================] - 124s 4s/step - loss: 1.3113 - accuracy: 0.5517 - val_loss: 1.5322 - val_accuracy: 0.4622\n",
      "Epoch 7/30\n",
      "35/35 [==============================] - 129s 4s/step - loss: 1.2437 - accuracy: 0.5760 - val_loss: 1.5061 - val_accuracy: 0.4784\n",
      "Epoch 8/30\n",
      "35/35 [==============================] - 125s 4s/step - loss: 1.1850 - accuracy: 0.5908 - val_loss: 1.4971 - val_accuracy: 0.4766\n",
      "Epoch 9/30\n",
      "35/35 [==============================] - 123s 4s/step - loss: 1.1307 - accuracy: 0.6326 - val_loss: 1.4859 - val_accuracy: 0.4730\n",
      "Epoch 10/30\n",
      "35/35 [==============================] - 125s 4s/step - loss: 1.0991 - accuracy: 0.6317 - val_loss: 1.4697 - val_accuracy: 0.4766\n",
      "Epoch 11/30\n",
      "35/35 [==============================] - 125s 4s/step - loss: 1.0538 - accuracy: 0.6610 - val_loss: 1.4287 - val_accuracy: 0.4964\n",
      "Epoch 12/30\n",
      "35/35 [==============================] - 120s 3s/step - loss: 1.0087 - accuracy: 0.6722 - val_loss: 1.4297 - val_accuracy: 0.5036\n",
      "Epoch 13/30\n",
      "35/35 [==============================] - 121s 3s/step - loss: 0.9920 - accuracy: 0.6754 - val_loss: 1.4395 - val_accuracy: 0.4910\n",
      "Epoch 14/30\n",
      "35/35 [==============================] - 120s 3s/step - loss: 0.9538 - accuracy: 0.6879 - val_loss: 1.4062 - val_accuracy: 0.4838\n",
      "Epoch 15/30\n",
      "35/35 [==============================] - 117s 3s/step - loss: 0.9181 - accuracy: 0.7131 - val_loss: 1.4241 - val_accuracy: 0.4964\n",
      "Epoch 16/30\n",
      "35/35 [==============================] - 125s 4s/step - loss: 0.8910 - accuracy: 0.7280 - val_loss: 1.3921 - val_accuracy: 0.5036\n",
      "Epoch 17/30\n",
      "35/35 [==============================] - 130s 4s/step - loss: 0.8630 - accuracy: 0.7302 - val_loss: 1.4252 - val_accuracy: 0.5108\n",
      "Epoch 18/30\n",
      "35/35 [==============================] - 129s 4s/step - loss: 0.8381 - accuracy: 0.7424 - val_loss: 1.3864 - val_accuracy: 0.4964\n",
      "Epoch 19/30\n",
      "35/35 [==============================] - 136s 4s/step - loss: 0.8116 - accuracy: 0.7549 - val_loss: 1.4001 - val_accuracy: 0.4892\n",
      "Epoch 20/30\n",
      "35/35 [==============================] - 124s 4s/step - loss: 0.8096 - accuracy: 0.7478 - val_loss: 1.4032 - val_accuracy: 0.5108\n",
      "Epoch 21/30\n",
      "35/35 [==============================] - 124s 4s/step - loss: 0.7689 - accuracy: 0.7765 - val_loss: 1.4011 - val_accuracy: 0.5018\n",
      "Epoch 22/30\n",
      "35/35 [==============================] - 118s 3s/step - loss: 0.7479 - accuracy: 0.7954 - val_loss: 1.3796 - val_accuracy: 0.5108\n",
      "Epoch 23/30\n",
      "35/35 [==============================] - 119s 3s/step - loss: 0.7192 - accuracy: 0.7981 - val_loss: 1.3947 - val_accuracy: 0.5090\n",
      "Epoch 24/30\n",
      "35/35 [==============================] - 122s 4s/step - loss: 0.7076 - accuracy: 0.8040 - val_loss: 1.4131 - val_accuracy: 0.5054\n",
      "Epoch 25/30\n",
      "35/35 [==============================] - 129s 4s/step - loss: 0.6878 - accuracy: 0.8143 - val_loss: 1.3773 - val_accuracy: 0.5072\n",
      "Epoch 26/30\n",
      "35/35 [==============================] - 121s 3s/step - loss: 0.6710 - accuracy: 0.8255 - val_loss: 1.3943 - val_accuracy: 0.5054\n",
      "Epoch 27/30\n",
      "35/35 [==============================] - 120s 3s/step - loss: 0.6504 - accuracy: 0.8305 - val_loss: 1.3843 - val_accuracy: 0.5090\n",
      "Epoch 28/30\n",
      "35/35 [==============================] - 122s 4s/step - loss: 0.6391 - accuracy: 0.8345 - val_loss: 1.4035 - val_accuracy: 0.4910\n",
      "Epoch 29/30\n",
      "35/35 [==============================] - 128s 4s/step - loss: 0.6236 - accuracy: 0.8350 - val_loss: 1.3979 - val_accuracy: 0.5000\n",
      "Epoch 30/30\n",
      "35/35 [==============================] - 124s 4s/step - loss: 0.6008 - accuracy: 0.8548 - val_loss: 1.3758 - val_accuracy: 0.5000\n"
     ]
    }
   ],
   "source": [
    "from tensorflow.keras.layers import Dense, Dropout, GlobalAveragePooling2D\n",
    "from tensorflow.keras.models import Model\n",
    "from tensorflow.keras.optimizers import Adam\n",
    "# Create the base pre-trained model\n",
    "from tensorflow.keras.applications import ResNet50\n",
    "\n",
    "base_model = ResNet50(weights='imagenet', include_top=False)\n",
    "\n",
    "# Freeze the base model layers\n",
    "base_model.trainable = False\n",
    "# Add a global spatial average pooling layer\n",
    "x = base_model.output\n",
    "x = GlobalAveragePooling2D()(x)\n",
    "\n",
    "# Add a fully-connected layer\n",
    "x = Dense(1024, activation='relu')(x)\n",
    "\n",
    "# Add a logistic layer\n",
    "predictions = Dense(16, activation='softmax')(x)\n",
    "#predictions = Dense(16, activation='softmax')(predictions)\n",
    "\n",
    "\n",
    "# Create a new model on top\n",
    "x = base_model.output\n",
    "x = GlobalAveragePooling2D()(x)\n",
    "#x = Dropout(0.5)(x)\n",
    "predictions = Dense(16, activation='softmax')(x)\n",
    "model = Model(inputs=base_model.input, outputs=predictions)\n",
    "\n",
    "\n",
    "# This is the model we will train\n",
    "#dense_layer = Dense(1, activation='sigmoid')\n",
    "#output = dense_layer(predictions)\n",
    "model = Model(inputs=base_model.input, outputs=predictions)\n",
    "\n",
    "# Compile the model\n",
    "model.compile(optimizer=Adam(lr=0.0001), loss='categorical_crossentropy', metrics=['accuracy'])\n",
    "history = model.fit(X_train, y_train, batch_size=64, epochs=30, validation_data=(X_test, y_test))\n",
    "\n",
    "\n",
    "########"
   ]
  },
  {
   "cell_type": "code",
   "execution_count": null,
   "id": "9722375d",
   "metadata": {},
   "outputs": [],
   "source": [
    "import tensorflow as tf\n",
    "tf.saved_model.save(model, 'AIOralCancerProject')"
   ]
  },
  {
   "cell_type": "code",
   "execution_count": 19,
   "id": "24d8df16",
   "metadata": {},
   "outputs": [
    {
     "name": "stdout",
     "output_type": "stream",
     "text": [
      "18/18 [==============================] - 22s 1s/step - loss: 1.3758 - accuracy: 0.5000\n",
      "Test accuracy: 0.5\n"
     ]
    }
   ],
   "source": [
    "# Evaluate the model on the test data\n",
    "test_loss, test_acc = model.evaluate(X_test, y_test)\n",
    "print('Test accuracy:', test_acc)"
   ]
  }
 ],
 "metadata": {
  "kernelspec": {
   "display_name": "Python 3 (ipykernel)",
   "language": "python",
   "name": "python3"
  },
  "language_info": {
   "codemirror_mode": {
    "name": "ipython",
    "version": 3
   },
   "file_extension": ".py",
   "mimetype": "text/x-python",
   "name": "python",
   "nbconvert_exporter": "python",
   "pygments_lexer": "ipython3",
   "version": "3.10.6"
  }
 },
 "nbformat": 4,
 "nbformat_minor": 5
}
