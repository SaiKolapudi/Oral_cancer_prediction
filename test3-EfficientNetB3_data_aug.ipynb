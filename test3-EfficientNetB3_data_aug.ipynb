{
 "cells": [
  {
   "cell_type": "code",
   "execution_count": 9,
   "id": "74d47aa8",
   "metadata": {},
   "outputs": [],
   "source": [
    "import cv2\n",
    "import os\n",
    "import numpy as np\n",
    "from sklearn.utils import shuffle\n",
    "from sklearn.model_selection import train_test_split\n",
    "from keras.layers import Input, Dense, Activation, ZeroPadding2D, BatchNormalization, Flatten, Conv2D\n",
    "from keras.layers import AveragePooling2D, MaxPooling2D, Dropout, GlobalMaxPooling2D, GlobalAveragePooling2D\n",
    "from keras.models import Model\n",
    "#from keras.preprocessing import image\n",
    "from keras.utils import layer_utils\n",
    "from keras.utils.data_utils import get_file\n",
    "from keras.applications.imagenet_utils import preprocess_input\n",
    "from keras.utils.vis_utils import model_to_dot\n",
    "from keras.utils import plot_model\n",
    "from keras.callbacks import EarlyStopping, ModelCheckpoint\n",
    "from PIL import Image"
   ]
  },
  {
   "cell_type": "code",
   "execution_count": 10,
   "id": "59073d5c",
   "metadata": {},
   "outputs": [],
   "source": [
    "import os\n",
    "from sklearn.utils import shuffle\n",
    "from sklearn.model_selection import train_test_split\n",
    "from keras.preprocessing import image\n",
    "\n",
    "# Define the base directory\n",
    "base_dir = \"AIOralCancerProject\"\n",
    "\n",
    "# Create an empty list to store the images and labels\n",
    "X = []\n",
    "y = []\n",
    "\n",
    "# Get the class labels from the directory names\n",
    "class_labels = os.listdir(base_dir)\n",
    "\n",
    "# Iterate through each directory and store the images and labels\n",
    "for i, label in enumerate(class_labels):\n",
    "    img_dir = os.path.join(base_dir, label)\n",
    "    for file in os.listdir(img_dir):\n",
    "        # Check if file is an image\n",
    "        if file.endswith(\".jpg\") or file.endswith(\".png\"):\n",
    "            # Load the image\n",
    "            \n",
    "            img = Image.open(os.path.join(img_dir, file))\n",
    "            img = img.resize((300, 300))\n",
    "            img = np.array(img)\n",
    "            #img = img / 255.0\n",
    "\n",
    "            # Append the image to the list of images\n",
    "            X.append(img)\n",
    "            # Append the corresponding label to the list of labels\n",
    "            y.append(i)"
   ]
  },
  {
   "cell_type": "code",
   "execution_count": 11,
   "id": "5f9eeda9",
   "metadata": {},
   "outputs": [],
   "source": [
    "# Shuffle the data\n",
    "#X, y = shuffle(X, y)\n",
    "\n",
    "# Split the data into training and testing sets\n",
    "X_train, X_test, y_train, y_test = train_test_split(X, y, test_size=0.2, random_state=42)"
   ]
  },
  {
   "cell_type": "code",
   "execution_count": 12,
   "id": "cdfe5f59",
   "metadata": {},
   "outputs": [],
   "source": [
    "X_train = np.array(X_train)\n",
    "X_test = np.array(X_test)\n",
    "\n",
    "X_train = X_train.reshape(-1,300,300,3)\n",
    "X_test = X_test.reshape(-1,300,300,3)"
   ]
  },
  {
   "cell_type": "code",
   "execution_count": 13,
   "id": "d50d74bd",
   "metadata": {},
   "outputs": [],
   "source": [
    "from keras.preprocessing.image import ImageDataGenerator"
   ]
  },
  {
   "cell_type": "code",
   "execution_count": 14,
   "id": "10247354",
   "metadata": {},
   "outputs": [],
   "source": [
    "# Define the data generator for data augmentation\n",
    "datagen = ImageDataGenerator(\n",
    "    rotation_range=40,\n",
    "    width_shift_range=0.2,\n",
    "    height_shift_range=0.2,\n",
    "    shear_range=0.2,\n",
    "    zoom_range=0.2,\n",
    "    horizontal_flip=True,\n",
    "    fill_mode='nearest')"
   ]
  },
  {
   "cell_type": "code",
   "execution_count": 15,
   "id": "8bd284b2",
   "metadata": {},
   "outputs": [],
   "source": [
    "# Fit the generator to the training data\n",
    "datagen.fit(X_train)"
   ]
  },
  {
   "cell_type": "code",
   "execution_count": 16,
   "id": "3f67a9b3",
   "metadata": {},
   "outputs": [],
   "source": [
    "from keras.utils import to_categorical\n",
    "\n",
    "# One-hot encode the labels\n",
    "y_train_encoded = to_categorical(y_train)\n",
    "y_test_encoded = to_categorical(y_test)"
   ]
  },
  {
   "cell_type": "code",
   "execution_count": 17,
   "id": "85887f7d",
   "metadata": {
    "scrolled": true
   },
   "outputs": [
    {
     "name": "stderr",
     "output_type": "stream",
     "text": [
      "2023-01-27 12:15:42.546410: E tensorflow/compiler/xla/stream_executor/cuda/cuda_driver.cc:267] failed call to cuInit: CUDA_ERROR_NO_DEVICE: no CUDA-capable device is detected\n",
      "2023-01-27 12:15:42.546481: I tensorflow/compiler/xla/stream_executor/cuda/cuda_diagnostics.cc:156] kernel driver does not appear to be running on this host (mistakenly-eager-jawfish): /proc/driver/nvidia/version does not exist\n",
      "2023-01-27 12:15:42.547479: I tensorflow/core/platform/cpu_feature_guard.cc:193] This TensorFlow binary is optimized with oneAPI Deep Neural Network Library (oneDNN) to use the following CPU instructions in performance-critical operations:  AVX2 FMA\n",
      "To enable them in other operations, rebuild TensorFlow with the appropriate compiler flags.\n"
     ]
    },
    {
     "name": "stdout",
     "output_type": "stream",
     "text": [
      "Downloading data from https://storage.googleapis.com/keras-applications/efficientnetb3_notop.h5\n",
      "43941136/43941136 [==============================] - 2s 0us/step\n"
     ]
    },
    {
     "name": "stderr",
     "output_type": "stream",
     "text": [
      "WARNING:absl:`lr` is deprecated, please use `learning_rate` instead, or use the legacy optimizer, e.g.,tf.keras.optimizers.legacy.Adam.\n",
      "/tmp/ipykernel_104116/3509303453.py:28: UserWarning: `Model.fit_generator` is deprecated and will be removed in a future version. Please use `Model.fit`, which supports generators.\n",
      "  history = model.fit_generator(datagen.flow(X_train, y_train_encoded, batch_size=64), epochs=30, validation_data=(X_test, y_test_encoded))\n"
     ]
    },
    {
     "name": "stdout",
     "output_type": "stream",
     "text": [
      "Epoch 1/30\n",
      "35/35 [==============================] - 192s 5s/step - loss: 2.4765 - accuracy: 0.2235 - val_loss: 2.2830 - val_accuracy: 0.2932\n",
      "Epoch 2/30\n",
      "35/35 [==============================] - 171s 5s/step - loss: 2.1474 - accuracy: 0.3201 - val_loss: 2.1476 - val_accuracy: 0.3165\n",
      "Epoch 3/30\n",
      "35/35 [==============================] - 161s 5s/step - loss: 2.0342 - accuracy: 0.3570 - val_loss: 2.0605 - val_accuracy: 0.3723\n",
      "Epoch 4/30\n",
      "35/35 [==============================] - 157s 4s/step - loss: 1.9427 - accuracy: 0.3723 - val_loss: 2.0118 - val_accuracy: 0.3723\n",
      "Epoch 5/30\n",
      "35/35 [==============================] - 153s 4s/step - loss: 1.8651 - accuracy: 0.3907 - val_loss: 1.9438 - val_accuracy: 0.4011\n",
      "Epoch 6/30\n",
      "35/35 [==============================] - 152s 4s/step - loss: 1.8024 - accuracy: 0.4182 - val_loss: 1.9008 - val_accuracy: 0.4083\n",
      "Epoch 7/30\n",
      "35/35 [==============================] - 155s 4s/step - loss: 1.7594 - accuracy: 0.4429 - val_loss: 1.8935 - val_accuracy: 0.4245\n",
      "Epoch 8/30\n",
      "35/35 [==============================] - 162s 5s/step - loss: 1.7115 - accuracy: 0.4577 - val_loss: 1.8747 - val_accuracy: 0.4209\n",
      "Epoch 9/30\n",
      "35/35 [==============================] - 152s 4s/step - loss: 1.6762 - accuracy: 0.4654 - val_loss: 1.8364 - val_accuracy: 0.4317\n",
      "Epoch 10/30\n",
      "35/35 [==============================] - 152s 4s/step - loss: 1.6273 - accuracy: 0.4703 - val_loss: 1.8347 - val_accuracy: 0.4191\n",
      "Epoch 11/30\n",
      "35/35 [==============================] - 155s 4s/step - loss: 1.5992 - accuracy: 0.4982 - val_loss: 1.8111 - val_accuracy: 0.4353\n",
      "Epoch 12/30\n",
      "35/35 [==============================] - 158s 5s/step - loss: 1.5785 - accuracy: 0.5085 - val_loss: 1.7830 - val_accuracy: 0.4388\n",
      "Epoch 13/30\n",
      "35/35 [==============================] - 159s 5s/step - loss: 1.5598 - accuracy: 0.4978 - val_loss: 1.7741 - val_accuracy: 0.4622\n",
      "Epoch 14/30\n",
      "35/35 [==============================] - 150s 4s/step - loss: 1.5294 - accuracy: 0.5153 - val_loss: 1.7626 - val_accuracy: 0.4568\n",
      "Epoch 15/30\n",
      "35/35 [==============================] - 161s 5s/step - loss: 1.5022 - accuracy: 0.5238 - val_loss: 1.7509 - val_accuracy: 0.4586\n",
      "Epoch 16/30\n",
      "35/35 [==============================] - 152s 4s/step - loss: 1.4871 - accuracy: 0.5337 - val_loss: 1.7681 - val_accuracy: 0.4532\n",
      "Epoch 17/30\n",
      "35/35 [==============================] - 161s 5s/step - loss: 1.4891 - accuracy: 0.5216 - val_loss: 1.7526 - val_accuracy: 0.4586\n",
      "Epoch 18/30\n",
      "35/35 [==============================] - 157s 4s/step - loss: 1.4539 - accuracy: 0.5454 - val_loss: 1.7545 - val_accuracy: 0.4514\n",
      "Epoch 19/30\n",
      "35/35 [==============================] - 165s 5s/step - loss: 1.4342 - accuracy: 0.5369 - val_loss: 1.7328 - val_accuracy: 0.4802\n",
      "Epoch 20/30\n",
      "35/35 [==============================] - 162s 5s/step - loss: 1.4284 - accuracy: 0.5463 - val_loss: 1.7192 - val_accuracy: 0.4748\n",
      "Epoch 21/30\n",
      "35/35 [==============================] - 149s 4s/step - loss: 1.4108 - accuracy: 0.5540 - val_loss: 1.7186 - val_accuracy: 0.4748\n",
      "Epoch 22/30\n",
      "35/35 [==============================] - 156s 4s/step - loss: 1.3964 - accuracy: 0.5549 - val_loss: 1.7026 - val_accuracy: 0.4766\n",
      "Epoch 23/30\n",
      "35/35 [==============================] - 155s 4s/step - loss: 1.3794 - accuracy: 0.5715 - val_loss: 1.7061 - val_accuracy: 0.4748\n",
      "Epoch 24/30\n",
      "35/35 [==============================] - 156s 4s/step - loss: 1.3776 - accuracy: 0.5634 - val_loss: 1.7027 - val_accuracy: 0.4730\n",
      "Epoch 25/30\n",
      "35/35 [==============================] - 162s 5s/step - loss: 1.3644 - accuracy: 0.5710 - val_loss: 1.7026 - val_accuracy: 0.4766\n",
      "Epoch 26/30\n",
      "35/35 [==============================] - 143s 4s/step - loss: 1.3594 - accuracy: 0.5571 - val_loss: 1.6978 - val_accuracy: 0.4892\n",
      "Epoch 27/30\n",
      "35/35 [==============================] - 160s 5s/step - loss: 1.3494 - accuracy: 0.5782 - val_loss: 1.6883 - val_accuracy: 0.4910\n",
      "Epoch 28/30\n",
      "35/35 [==============================] - 158s 5s/step - loss: 1.2825 - accuracy: 0.6057 - val_loss: 1.7086 - val_accuracy: 0.4910\n",
      "Epoch 29/30\n",
      "35/35 [==============================] - 160s 5s/step - loss: 1.3192 - accuracy: 0.5872 - val_loss: 1.6923 - val_accuracy: 0.4712\n",
      "Epoch 30/30\n",
      "35/35 [==============================] - 163s 5s/step - loss: 1.2880 - accuracy: 0.5908 - val_loss: 1.6836 - val_accuracy: 0.4982\n"
     ]
    }
   ],
   "source": [
    "from tensorflow.keras.applications import EfficientNetB3\n",
    "from tensorflow.keras.layers import Dense, Dropout, GlobalAveragePooling2D\n",
    "from tensorflow.keras.models import Model\n",
    "from tensorflow.keras.optimizers import Adam\n",
    "\n",
    "# Load the EfficientNetB3 model\n",
    "base_model = EfficientNetB3(weights='imagenet', include_top=False, input_shape=(300, 300, 3))\n",
    "\n",
    "# Freeze the base model layers\n",
    "base_model.trainable = False\n",
    "\n",
    "# Create a new model on top\n",
    "x = base_model.output\n",
    "x = GlobalAveragePooling2D()(x)\n",
    "#x = Dropout(0.5)(x)\n",
    "predictions = Dense(16, activation='softmax')(x)\n",
    "model = Model(inputs=base_model.input, outputs=predictions)\n",
    "\n",
    "# Compile the model\n",
    "model.compile(optimizer=Adam(lr=0.0001), loss='categorical_crossentropy', metrics=['accuracy'])\n",
    "\n",
    "# Train the model\n",
    "#history = model.fit(X_train, y_train_encoded, batch_size=64, epochs=30, validation_data=(X_test, y_test_encoded))\n",
    "\n",
    "\n",
    "#history = model.fit_generator(datagen.flow(X_train, y_train, batch_size=64,  epochs=30, validation_data=(X_test, y_test)))\n",
    "\n",
    "history = model.fit_generator(datagen.flow(X_train, y_train_encoded, batch_size=64), epochs=30, validation_data=(X_test, y_test_encoded))"
   ]
  },
  {
   "cell_type": "code",
   "execution_count": 19,
   "id": "9722375d",
   "metadata": {},
   "outputs": [
    {
     "name": "stderr",
     "output_type": "stream",
     "text": [
      "WARNING:absl:Found untraced functions such as _jit_compiled_convolution_op, _jit_compiled_convolution_op, _jit_compiled_convolution_op, _jit_compiled_convolution_op, _jit_compiled_convolution_op while saving (showing 5 of 131). These functions will not be directly callable after loading.\n"
     ]
    },
    {
     "name": "stdout",
     "output_type": "stream",
     "text": [
      "INFO:tensorflow:Assets written to: AIOralCancerProject/assets\n"
     ]
    },
    {
     "name": "stderr",
     "output_type": "stream",
     "text": [
      "INFO:tensorflow:Assets written to: AIOralCancerProject/assets\n"
     ]
    }
   ],
   "source": [
    "import tensorflow as tf\n",
    "tf.saved_model.save(model, 'AIOralCancerProject')"
   ]
  },
  {
   "cell_type": "code",
   "execution_count": 20,
   "id": "24d8df16",
   "metadata": {},
   "outputs": [
    {
     "name": "stdout",
     "output_type": "stream",
     "text": [
      "18/18 [==============================] - 24s 1s/step - loss: 1.6836 - accuracy: 0.4982\n",
      "Test accuracy: 0.4982014298439026\n"
     ]
    }
   ],
   "source": [
    "# Evaluate the model on the test data\n",
    "test_loss, test_acc = model.evaluate(X_test, y_test_encoded)\n",
    "print('Test accuracy:', test_acc)"
   ]
  }
 ],
 "metadata": {
  "kernelspec": {
   "display_name": "Python 3 (ipykernel)",
   "language": "python",
   "name": "python3"
  },
  "language_info": {
   "codemirror_mode": {
    "name": "ipython",
    "version": 3
   },
   "file_extension": ".py",
   "mimetype": "text/x-python",
   "name": "python",
   "nbconvert_exporter": "python",
   "pygments_lexer": "ipython3",
   "version": "3.10.6"
  }
 },
 "nbformat": 4,
 "nbformat_minor": 5
}
