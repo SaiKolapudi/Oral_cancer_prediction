{
 "cells": [
  {
   "cell_type": "code",
   "execution_count": 28,
   "id": "74d47aa8",
   "metadata": {},
   "outputs": [],
   "source": [
    "import cv2\n",
    "import os\n",
    "import numpy as np\n",
    "from sklearn.utils import shuffle\n",
    "from sklearn.model_selection import train_test_split\n",
    "from keras.layers import Input, Dense, Activation, ZeroPadding2D, BatchNormalization, Flatten, Conv2D\n",
    "from keras.layers import AveragePooling2D, MaxPooling2D, Dropout, GlobalMaxPooling2D, GlobalAveragePooling2D\n",
    "from keras.models import Model\n",
    "#from keras.preprocessing import image\n",
    "from keras.utils import layer_utils\n",
    "from keras.utils.data_utils import get_file\n",
    "from keras.applications.imagenet_utils import preprocess_input\n",
    "from keras.utils.vis_utils import model_to_dot\n",
    "from keras.utils import plot_model\n",
    "from keras.callbacks import EarlyStopping, ModelCheckpoint\n",
    "from PIL import Image"
   ]
  },
  {
   "cell_type": "code",
   "execution_count": 33,
   "id": "59073d5c",
   "metadata": {},
   "outputs": [],
   "source": [
    "import os\n",
    "from sklearn.utils import shuffle\n",
    "from sklearn.model_selection import train_test_split\n",
    "from keras.preprocessing import image\n",
    "\n",
    "# Define the base directory\n",
    "base_dir = \"C:/Users/saitu/Downloads/AIOralCancerProject/AIOralCancerProject\"\n",
    "\n",
    "# Create an empty list to store the images and labels\n",
    "X = []\n",
    "y = []\n",
    "\n",
    "# Get the class labels from the directory names\n",
    "class_labels = os.listdir(base_dir)\n",
    "\n",
    "# Iterate through each directory and store the images and labels\n",
    "for i, label in enumerate(class_labels):\n",
    "    img_dir = os.path.join(base_dir, label)\n",
    "    for file in os.listdir(img_dir):\n",
    "        # Check if file is an image\n",
    "        if file.endswith(\".jpg\") or file.endswith(\".png\"):\n",
    "            # Load the image\n",
    "            \n",
    "            img = Image.open(os.path.join(img_dir, file))\n",
    "            img = img.resize((300, 300))\n",
    "            img = np.array(img)\n",
    "            #img = img / 255.0\n",
    "\n",
    "            # Append the image to the list of images\n",
    "            X.append(img)\n",
    "            # Append the corresponding label to the list of labels\n",
    "            y.append(i)"
   ]
  },
  {
   "cell_type": "code",
   "execution_count": 34,
   "id": "5f9eeda9",
   "metadata": {},
   "outputs": [],
   "source": [
    "# Shuffle the data\n",
    "#X, y = shuffle(X, y)\n",
    "\n",
    "# Split the data into training and testing sets\n",
    "X_train, X_test, y_train, y_test = train_test_split(X, y, test_size=0.2, random_state=42)"
   ]
  },
  {
   "cell_type": "code",
   "execution_count": 35,
   "id": "cdfe5f59",
   "metadata": {},
   "outputs": [],
   "source": [
    "X_train = np.array(X_train)\n",
    "X_test = np.array(X_test)\n",
    "\n",
    "X_train = X_train.reshape(-1,300,300,3)\n",
    "X_test = X_test.reshape(-1,300,300,3)"
   ]
  },
  {
   "cell_type": "code",
   "execution_count": 37,
   "id": "85887f7d",
   "metadata": {
    "scrolled": true
   },
   "outputs": [
    {
     "name": "stderr",
     "output_type": "stream",
     "text": [
      "WARNING:absl:`lr` is deprecated, please use `learning_rate` instead, or use the legacy optimizer, e.g.,tf.keras.optimizers.legacy.Adam.\n"
     ]
    },
    {
     "name": "stdout",
     "output_type": "stream",
     "text": [
      "Epoch 1/30\n",
      "35/35 [==============================] - 284s 8s/step - loss: 2.6860 - accuracy: 0.1308 - val_loss: 2.6750 - val_accuracy: 0.1259\n",
      "Epoch 2/30\n",
      "35/35 [==============================] - 287s 8s/step - loss: 2.5345 - accuracy: 0.1614 - val_loss: 2.6617 - val_accuracy: 0.1439\n",
      "Epoch 3/30\n",
      "35/35 [==============================] - 397s 11s/step - loss: 2.4716 - accuracy: 0.1785 - val_loss: 2.6537 - val_accuracy: 0.1439\n",
      "Epoch 4/30\n",
      "35/35 [==============================] - 271s 8s/step - loss: 2.4131 - accuracy: 0.1983 - val_loss: 2.6767 - val_accuracy: 0.1259\n",
      "Epoch 5/30\n",
      "35/35 [==============================] - 265s 8s/step - loss: 2.3603 - accuracy: 0.2100 - val_loss: 2.6732 - val_accuracy: 0.1367\n",
      "Epoch 6/30\n",
      "35/35 [==============================] - 1972s 58s/step - loss: 2.3259 - accuracy: 0.2262 - val_loss: 2.6813 - val_accuracy: 0.1385\n",
      "Epoch 7/30\n",
      "35/35 [==============================] - 179s 5s/step - loss: 2.2908 - accuracy: 0.2293 - val_loss: 2.7006 - val_accuracy: 0.1331\n",
      "Epoch 8/30\n",
      "35/35 [==============================] - 167s 5s/step - loss: 2.2572 - accuracy: 0.2433 - val_loss: 2.7117 - val_accuracy: 0.1403\n",
      "Epoch 9/30\n",
      "35/35 [==============================] - 169s 5s/step - loss: 2.2131 - accuracy: 0.2756 - val_loss: 2.7147 - val_accuracy: 0.1349\n",
      "Epoch 10/30\n",
      "35/35 [==============================] - 169s 5s/step - loss: 2.1803 - accuracy: 0.2828 - val_loss: 2.7241 - val_accuracy: 0.1439\n",
      "Epoch 11/30\n",
      "35/35 [==============================] - 167s 5s/step - loss: 2.1431 - accuracy: 0.3143 - val_loss: 2.7149 - val_accuracy: 0.1403\n",
      "Epoch 12/30\n",
      "35/35 [==============================] - 166s 5s/step - loss: 2.1263 - accuracy: 0.3004 - val_loss: 2.7603 - val_accuracy: 0.1169\n",
      "Epoch 13/30\n",
      "35/35 [==============================] - 166s 5s/step - loss: 2.1009 - accuracy: 0.3251 - val_loss: 2.7352 - val_accuracy: 0.1349\n",
      "Epoch 14/30\n",
      "35/35 [==============================] - 161s 5s/step - loss: 2.0669 - accuracy: 0.3453 - val_loss: 2.7433 - val_accuracy: 0.1151\n",
      "Epoch 15/30\n",
      "35/35 [==============================] - 171s 5s/step - loss: 2.0579 - accuracy: 0.3332 - val_loss: 2.7451 - val_accuracy: 0.1169\n",
      "Epoch 16/30\n",
      "35/35 [==============================] - 167s 5s/step - loss: 2.0176 - accuracy: 0.3606 - val_loss: 2.7610 - val_accuracy: 0.1169\n",
      "Epoch 17/30\n",
      "35/35 [==============================] - 173s 5s/step - loss: 2.0019 - accuracy: 0.3660 - val_loss: 2.7722 - val_accuracy: 0.1133\n",
      "Epoch 18/30\n",
      "35/35 [==============================] - 203s 6s/step - loss: 1.9763 - accuracy: 0.3705 - val_loss: 2.7729 - val_accuracy: 0.1241\n",
      "Epoch 19/30\n",
      "35/35 [==============================] - 207s 6s/step - loss: 1.9557 - accuracy: 0.3822 - val_loss: 2.7670 - val_accuracy: 0.1241\n",
      "Epoch 20/30\n",
      "35/35 [==============================] - 168s 5s/step - loss: 1.9350 - accuracy: 0.4029 - val_loss: 2.7919 - val_accuracy: 0.1295\n",
      "Epoch 21/30\n",
      "35/35 [==============================] - 171s 5s/step - loss: 1.9198 - accuracy: 0.3921 - val_loss: 2.7917 - val_accuracy: 0.1295\n",
      "Epoch 22/30\n",
      "35/35 [==============================] - 174s 5s/step - loss: 1.8970 - accuracy: 0.4047 - val_loss: 2.8003 - val_accuracy: 0.1259\n",
      "Epoch 23/30\n",
      "35/35 [==============================] - 163s 5s/step - loss: 1.8709 - accuracy: 0.4267 - val_loss: 2.8056 - val_accuracy: 0.1187\n",
      "Epoch 24/30\n",
      "35/35 [==============================] - 211s 6s/step - loss: 1.8566 - accuracy: 0.4299 - val_loss: 2.8005 - val_accuracy: 0.1187\n",
      "Epoch 25/30\n",
      "35/35 [==============================] - 212s 6s/step - loss: 1.8419 - accuracy: 0.4402 - val_loss: 2.8291 - val_accuracy: 0.1223\n",
      "Epoch 26/30\n",
      "35/35 [==============================] - 180s 5s/step - loss: 1.8312 - accuracy: 0.4303 - val_loss: 2.8230 - val_accuracy: 0.1223\n",
      "Epoch 27/30\n",
      "35/35 [==============================] - 164s 5s/step - loss: 1.8026 - accuracy: 0.4456 - val_loss: 2.8417 - val_accuracy: 0.1133\n",
      "Epoch 28/30\n",
      "35/35 [==============================] - 166s 5s/step - loss: 1.8023 - accuracy: 0.4362 - val_loss: 2.8302 - val_accuracy: 0.1295\n",
      "Epoch 29/30\n",
      "35/35 [==============================] - 166s 5s/step - loss: 1.7752 - accuracy: 0.4546 - val_loss: 2.8326 - val_accuracy: 0.1187\n",
      "Epoch 30/30\n",
      "35/35 [==============================] - 169s 5s/step - loss: 1.7433 - accuracy: 0.4780 - val_loss: 2.8408 - val_accuracy: 0.1133\n"
     ]
    }
   ],
   "source": [
    "from tensorflow.keras.applications import EfficientNetB3\n",
    "from tensorflow.keras.layers import Dense, Dropout, GlobalAveragePooling2D\n",
    "from tensorflow.keras.models import Model\n",
    "from tensorflow.keras.optimizers import Adam\n",
    "\n",
    "# Load the EfficientNetB3 model\n",
    "base_model = EfficientNetB3(weights='imagenet', include_top=False, input_shape=(300, 300, 3))\n",
    "\n",
    "# Freeze the base model layers\n",
    "base_model.trainable = False\n",
    "\n",
    "# Create a new model on top\n",
    "x = base_model.output\n",
    "x = GlobalAveragePooling2D()(x)\n",
    "#x = Dropout(0.5)(x)\n",
    "predictions = Dense(16, activation='softmax')(x)\n",
    "model = Model(inputs=base_model.input, outputs=predictions)\n",
    "\n",
    "# Compile the model\n",
    "model.compile(optimizer=Adam(lr=0.0001), loss='categorical_crossentropy', metrics=['accuracy'])\n",
    "\n",
    "# Train the model\n",
    "history = model.fit(X_train, y_train_encoded, batch_size=64, epochs=30, validation_data=(X_test, y_test_encoded))"
   ]
  },
  {
   "cell_type": "code",
   "execution_count": 38,
   "id": "9722375d",
   "metadata": {},
   "outputs": [
    {
     "name": "stderr",
     "output_type": "stream",
     "text": [
      "WARNING:absl:Found untraced functions such as _jit_compiled_convolution_op, _jit_compiled_convolution_op, _jit_compiled_convolution_op, _jit_compiled_convolution_op, _jit_compiled_convolution_op while saving (showing 5 of 131). These functions will not be directly callable after loading.\n"
     ]
    },
    {
     "name": "stdout",
     "output_type": "stream",
     "text": [
      "INFO:tensorflow:Assets written to: C:/Users/saitu/Downloads/AIOralCancerProject\\assets\n"
     ]
    },
    {
     "name": "stderr",
     "output_type": "stream",
     "text": [
      "INFO:tensorflow:Assets written to: C:/Users/saitu/Downloads/AIOralCancerProject\\assets\n"
     ]
    }
   ],
   "source": [
    "import tensorflow as tf\n",
    "tf.saved_model.save(model, 'C:/Users/saitu/Downloads/AIOralCancerProject')"
   ]
  },
  {
   "cell_type": "code",
   "execution_count": 39,
   "id": "24d8df16",
   "metadata": {},
   "outputs": [
    {
     "name": "stdout",
     "output_type": "stream",
     "text": [
      "18/18 [==============================] - 34s 2s/step - loss: 2.8408 - accuracy: 0.1133\n",
      "Test accuracy: 0.1133093535900116\n"
     ]
    }
   ],
   "source": [
    "# Evaluate the model on the test data\n",
    "test_loss, test_acc = model.evaluate(X_test, y_test_encoded)\n",
    "print('Test accuracy:', test_acc)"
   ]
  }
 ],
 "metadata": {
  "kernelspec": {
   "display_name": "Python 3 (ipykernel)",
   "language": "python",
   "name": "python3"
  },
  "language_info": {
   "codemirror_mode": {
    "name": "ipython",
    "version": 3
   },
   "file_extension": ".py",
   "mimetype": "text/x-python",
   "name": "python",
   "nbconvert_exporter": "python",
   "pygments_lexer": "ipython3",
   "version": "3.9.12"
  }
 },
 "nbformat": 4,
 "nbformat_minor": 5
}
